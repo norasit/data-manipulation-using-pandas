{
 "cells": [
  {
   "cell_type": "markdown",
   "metadata": {},
   "source": [
    "# Thailand Covid-19\n",
    "This dataset is copied from https://data.go.th/dataset/8a956917-436d-4afd-a2d4-59e4dd8e906e/resource/894664f5-447a-46ec-9fe2-1b6ae8f18be5/download/confirmed-cases-since-120465.csv that reported data about patient or who are stay close to patient from \"Corona Virus\" in Thailand.\n",
    "\n",
    "In this repository will show some Pandas features to manipulate data.\n",
    "\n"
   ]
  },
  {
   "cell_type": "markdown",
   "metadata": {},
   "source": [
    "### import pandas and create dataframe"
   ]
  },
  {
   "cell_type": "code",
   "execution_count": 129,
   "metadata": {},
   "outputs": [
    {
     "name": "stderr",
     "output_type": "stream",
     "text": [
      "C:\\Users\\knora\\AppData\\Local\\Temp\\ipykernel_2172\\1371607441.py:7: DtypeWarning: Columns (4) have mixed types. Specify dtype option on import or set low_memory=False.\n",
      "  df = pd.read_csv(url)\n"
     ]
    }
   ],
   "source": [
    "import pandas as pd\n",
    "\n",
    "# url is mentioned above\n",
    "url = \"https://data.go.th/dataset/8a956917-436d-4afd-a2d4-59e4dd8e906e/resource/894664f5-447a-46ec-9fe2-1b6ae8f18be5/download/confirmed-cases-since-120465.csv\"\n",
    "\n",
    "# create dataframe call \"df\"\n",
    "df = pd.read_csv(url)"
   ]
  },
  {
   "cell_type": "markdown",
   "metadata": {},
   "source": [
    "### Check what column names are in the dataframe."
   ]
  },
  {
   "cell_type": "code",
   "execution_count": 130,
   "metadata": {},
   "outputs": [
    {
     "data": {
      "text/plain": [
       "Index(['No.', 'announce_date', 'Notified date', 'sex', 'age', 'Unit',\n",
       "       'nationality', 'province_of_isolation', 'risk', 'province_of_onset',\n",
       "       'district_of_onset'],\n",
       "      dtype='object')"
      ]
     },
     "execution_count": 130,
     "metadata": {},
     "output_type": "execute_result"
    }
   ],
   "source": [
    "df.columns"
   ]
  },
  {
   "cell_type": "markdown",
   "metadata": {},
   "source": [
    "### Explore the overview of dataframe\n",
    "We can see the number of rows and column names with dtype in each column."
   ]
  },
  {
   "cell_type": "code",
   "execution_count": 131,
   "metadata": {},
   "outputs": [
    {
     "name": "stdout",
     "output_type": "stream",
     "text": [
      "<class 'pandas.core.frame.DataFrame'>\n",
      "RangeIndex: 356612 entries, 0 to 356611\n",
      "Data columns (total 11 columns):\n",
      " #   Column                 Non-Null Count   Dtype \n",
      "---  ------                 --------------   ----- \n",
      " 0   No.                    356612 non-null  int64 \n",
      " 1   announce_date          356612 non-null  object\n",
      " 2   Notified date          356612 non-null  object\n",
      " 3   sex                    338957 non-null  object\n",
      " 4   age                    325395 non-null  object\n",
      " 5   Unit                   325395 non-null  object\n",
      " 6   nationality            324566 non-null  object\n",
      " 7   province_of_isolation  356612 non-null  object\n",
      " 8   risk                   356612 non-null  object\n",
      " 9   province_of_onset      321770 non-null  object\n",
      " 10  district_of_onset      312638 non-null  object\n",
      "dtypes: int64(1), object(10)\n",
      "memory usage: 29.9+ MB\n"
     ]
    }
   ],
   "source": [
    "df.info()"
   ]
  },
  {
   "cell_type": "markdown",
   "metadata": {},
   "source": [
    "### Review the top 5 or bottom 5 of the dataframe\n",
    "By default df.head() or df.tail() will show 5 rows but we can specify number that we need to see (ex. df.head(10) or df.tail(7)).\n"
   ]
  },
  {
   "cell_type": "code",
   "execution_count": 132,
   "metadata": {},
   "outputs": [
    {
     "data": {
      "text/html": [
       "<div>\n",
       "<style scoped>\n",
       "    .dataframe tbody tr th:only-of-type {\n",
       "        vertical-align: middle;\n",
       "    }\n",
       "\n",
       "    .dataframe tbody tr th {\n",
       "        vertical-align: top;\n",
       "    }\n",
       "\n",
       "    .dataframe thead th {\n",
       "        text-align: right;\n",
       "    }\n",
       "</style>\n",
       "<table border=\"1\" class=\"dataframe\">\n",
       "  <thead>\n",
       "    <tr style=\"text-align: right;\">\n",
       "      <th></th>\n",
       "      <th>No.</th>\n",
       "      <th>announce_date</th>\n",
       "      <th>Notified date</th>\n",
       "      <th>sex</th>\n",
       "      <th>age</th>\n",
       "      <th>Unit</th>\n",
       "      <th>nationality</th>\n",
       "      <th>province_of_isolation</th>\n",
       "      <th>risk</th>\n",
       "      <th>province_of_onset</th>\n",
       "      <th>district_of_onset</th>\n",
       "    </tr>\n",
       "  </thead>\n",
       "  <tbody>\n",
       "    <tr>\n",
       "      <th>0</th>\n",
       "      <td>3905873</td>\n",
       "      <td>12/4/2022</td>\n",
       "      <td>11/4/2022</td>\n",
       "      <td>หญิง</td>\n",
       "      <td>54.0</td>\n",
       "      <td>ปี</td>\n",
       "      <td>Thailand</td>\n",
       "      <td>เชียงใหม่</td>\n",
       "      <td>อยู่ระหว่างการสอบสวน</td>\n",
       "      <td>เชียงใหม่</td>\n",
       "      <td>จอมทอง</td>\n",
       "    </tr>\n",
       "    <tr>\n",
       "      <th>1</th>\n",
       "      <td>3905874</td>\n",
       "      <td>12/4/2022</td>\n",
       "      <td>11/4/2022</td>\n",
       "      <td>หญิง</td>\n",
       "      <td>36.0</td>\n",
       "      <td>ปี</td>\n",
       "      <td>Thailand</td>\n",
       "      <td>เชียงใหม่</td>\n",
       "      <td>อยู่ระหว่างการสอบสวน</td>\n",
       "      <td>เชียงใหม่</td>\n",
       "      <td>เมืองเชียงใหม่</td>\n",
       "    </tr>\n",
       "    <tr>\n",
       "      <th>2</th>\n",
       "      <td>3905875</td>\n",
       "      <td>12/4/2022</td>\n",
       "      <td>11/4/2022</td>\n",
       "      <td>หญิง</td>\n",
       "      <td>31.0</td>\n",
       "      <td>ปี</td>\n",
       "      <td>Thailand</td>\n",
       "      <td>เชียงใหม่</td>\n",
       "      <td>อยู่ระหว่างการสอบสวน</td>\n",
       "      <td>เชียงใหม่</td>\n",
       "      <td>ดอยหล่อ</td>\n",
       "    </tr>\n",
       "    <tr>\n",
       "      <th>3</th>\n",
       "      <td>3905876</td>\n",
       "      <td>12/4/2022</td>\n",
       "      <td>11/4/2022</td>\n",
       "      <td>ชาย</td>\n",
       "      <td>37.0</td>\n",
       "      <td>ปี</td>\n",
       "      <td>Thailand</td>\n",
       "      <td>เชียงใหม่</td>\n",
       "      <td>อยู่ระหว่างการสอบสวน</td>\n",
       "      <td>NaN</td>\n",
       "      <td>ต่างจังหวัด</td>\n",
       "    </tr>\n",
       "    <tr>\n",
       "      <th>4</th>\n",
       "      <td>3905877</td>\n",
       "      <td>12/4/2022</td>\n",
       "      <td>11/4/2022</td>\n",
       "      <td>หญิง</td>\n",
       "      <td>33.0</td>\n",
       "      <td>ปี</td>\n",
       "      <td>Thailand</td>\n",
       "      <td>เชียงใหม่</td>\n",
       "      <td>อยู่ระหว่างการสอบสวน</td>\n",
       "      <td>เชียงใหม่</td>\n",
       "      <td>แม่ริม</td>\n",
       "    </tr>\n",
       "  </tbody>\n",
       "</table>\n",
       "</div>"
      ],
      "text/plain": [
       "       No. announce_date Notified date   sex   age Unit nationality  \\\n",
       "0  3905873     12/4/2022     11/4/2022  หญิง  54.0   ปี    Thailand   \n",
       "1  3905874     12/4/2022     11/4/2022  หญิง  36.0   ปี    Thailand   \n",
       "2  3905875     12/4/2022     11/4/2022  หญิง  31.0   ปี    Thailand   \n",
       "3  3905876     12/4/2022     11/4/2022   ชาย  37.0   ปี    Thailand   \n",
       "4  3905877     12/4/2022     11/4/2022  หญิง  33.0   ปี    Thailand   \n",
       "\n",
       "  province_of_isolation                  risk province_of_onset  \\\n",
       "0             เชียงใหม่  อยู่ระหว่างการสอบสวน         เชียงใหม่   \n",
       "1             เชียงใหม่  อยู่ระหว่างการสอบสวน         เชียงใหม่   \n",
       "2             เชียงใหม่  อยู่ระหว่างการสอบสวน         เชียงใหม่   \n",
       "3             เชียงใหม่  อยู่ระหว่างการสอบสวน               NaN   \n",
       "4             เชียงใหม่  อยู่ระหว่างการสอบสวน         เชียงใหม่   \n",
       "\n",
       "  district_of_onset  \n",
       "0            จอมทอง  \n",
       "1    เมืองเชียงใหม่  \n",
       "2           ดอยหล่อ  \n",
       "3       ต่างจังหวัด  \n",
       "4            แม่ริม  "
      ]
     },
     "execution_count": 132,
     "metadata": {},
     "output_type": "execute_result"
    }
   ],
   "source": [
    "df.head()"
   ]
  },
  {
   "cell_type": "code",
   "execution_count": 133,
   "metadata": {},
   "outputs": [
    {
     "data": {
      "text/html": [
       "<div>\n",
       "<style scoped>\n",
       "    .dataframe tbody tr th:only-of-type {\n",
       "        vertical-align: middle;\n",
       "    }\n",
       "\n",
       "    .dataframe tbody tr th {\n",
       "        vertical-align: top;\n",
       "    }\n",
       "\n",
       "    .dataframe thead th {\n",
       "        text-align: right;\n",
       "    }\n",
       "</style>\n",
       "<table border=\"1\" class=\"dataframe\">\n",
       "  <thead>\n",
       "    <tr style=\"text-align: right;\">\n",
       "      <th></th>\n",
       "      <th>No.</th>\n",
       "      <th>announce_date</th>\n",
       "      <th>Notified date</th>\n",
       "      <th>sex</th>\n",
       "      <th>age</th>\n",
       "      <th>Unit</th>\n",
       "      <th>nationality</th>\n",
       "      <th>province_of_isolation</th>\n",
       "      <th>risk</th>\n",
       "      <th>province_of_onset</th>\n",
       "      <th>district_of_onset</th>\n",
       "    </tr>\n",
       "  </thead>\n",
       "  <tbody>\n",
       "    <tr>\n",
       "      <th>356607</th>\n",
       "      <td>4262480</td>\n",
       "      <td>1/5/2022</td>\n",
       "      <td>30/4/2022</td>\n",
       "      <td>ชาย</td>\n",
       "      <td>NaN</td>\n",
       "      <td>NaN</td>\n",
       "      <td>NaN</td>\n",
       "      <td>พิษณุโลก</td>\n",
       "      <td>ทัณฑสถาน/เรือนจำ</td>\n",
       "      <td>NaN</td>\n",
       "      <td>NaN</td>\n",
       "    </tr>\n",
       "    <tr>\n",
       "      <th>356608</th>\n",
       "      <td>4262481</td>\n",
       "      <td>1/5/2022</td>\n",
       "      <td>30/4/2022</td>\n",
       "      <td>ชาย</td>\n",
       "      <td>NaN</td>\n",
       "      <td>NaN</td>\n",
       "      <td>NaN</td>\n",
       "      <td>ปทุมธานี</td>\n",
       "      <td>ทัณฑสถาน/เรือนจำ</td>\n",
       "      <td>NaN</td>\n",
       "      <td>NaN</td>\n",
       "    </tr>\n",
       "    <tr>\n",
       "      <th>356609</th>\n",
       "      <td>4262482</td>\n",
       "      <td>1/5/2022</td>\n",
       "      <td>30/4/2022</td>\n",
       "      <td>หญิง</td>\n",
       "      <td>NaN</td>\n",
       "      <td>NaN</td>\n",
       "      <td>NaN</td>\n",
       "      <td>ปทุมธานี</td>\n",
       "      <td>ทัณฑสถาน/เรือนจำ</td>\n",
       "      <td>NaN</td>\n",
       "      <td>NaN</td>\n",
       "    </tr>\n",
       "    <tr>\n",
       "      <th>356610</th>\n",
       "      <td>4262483</td>\n",
       "      <td>1/5/2022</td>\n",
       "      <td>30/4/2022</td>\n",
       "      <td>หญิง</td>\n",
       "      <td>NaN</td>\n",
       "      <td>NaN</td>\n",
       "      <td>NaN</td>\n",
       "      <td>ปทุมธานี</td>\n",
       "      <td>ทัณฑสถาน/เรือนจำ</td>\n",
       "      <td>NaN</td>\n",
       "      <td>NaN</td>\n",
       "    </tr>\n",
       "    <tr>\n",
       "      <th>356611</th>\n",
       "      <td>4262484</td>\n",
       "      <td>1/5/2022</td>\n",
       "      <td>30/4/2022</td>\n",
       "      <td>ชาย</td>\n",
       "      <td>NaN</td>\n",
       "      <td>NaN</td>\n",
       "      <td>NaN</td>\n",
       "      <td>ขอนแก่น</td>\n",
       "      <td>ทัณฑสถาน/เรือนจำ</td>\n",
       "      <td>NaN</td>\n",
       "      <td>NaN</td>\n",
       "    </tr>\n",
       "  </tbody>\n",
       "</table>\n",
       "</div>"
      ],
      "text/plain": [
       "            No. announce_date Notified date   sex  age Unit nationality  \\\n",
       "356607  4262480      1/5/2022     30/4/2022   ชาย  NaN  NaN         NaN   \n",
       "356608  4262481      1/5/2022     30/4/2022   ชาย  NaN  NaN         NaN   \n",
       "356609  4262482      1/5/2022     30/4/2022  หญิง  NaN  NaN         NaN   \n",
       "356610  4262483      1/5/2022     30/4/2022  หญิง  NaN  NaN         NaN   \n",
       "356611  4262484      1/5/2022     30/4/2022   ชาย  NaN  NaN         NaN   \n",
       "\n",
       "       province_of_isolation              risk province_of_onset  \\\n",
       "356607              พิษณุโลก  ทัณฑสถาน/เรือนจำ               NaN   \n",
       "356608              ปทุมธานี  ทัณฑสถาน/เรือนจำ               NaN   \n",
       "356609              ปทุมธานี  ทัณฑสถาน/เรือนจำ               NaN   \n",
       "356610              ปทุมธานี  ทัณฑสถาน/เรือนจำ               NaN   \n",
       "356611               ขอนแก่น  ทัณฑสถาน/เรือนจำ               NaN   \n",
       "\n",
       "       district_of_onset  \n",
       "356607               NaN  \n",
       "356608               NaN  \n",
       "356609               NaN  \n",
       "356610               NaN  \n",
       "356611               NaN  "
      ]
     },
     "execution_count": 133,
     "metadata": {},
     "output_type": "execute_result"
    }
   ],
   "source": [
    "df.tail()"
   ]
  },
  {
   "cell_type": "code",
   "execution_count": 134,
   "metadata": {},
   "outputs": [
    {
     "data": {
      "text/html": [
       "<div>\n",
       "<style scoped>\n",
       "    .dataframe tbody tr th:only-of-type {\n",
       "        vertical-align: middle;\n",
       "    }\n",
       "\n",
       "    .dataframe tbody tr th {\n",
       "        vertical-align: top;\n",
       "    }\n",
       "\n",
       "    .dataframe thead th {\n",
       "        text-align: right;\n",
       "    }\n",
       "</style>\n",
       "<table border=\"1\" class=\"dataframe\">\n",
       "  <thead>\n",
       "    <tr style=\"text-align: right;\">\n",
       "      <th></th>\n",
       "      <th>No.</th>\n",
       "      <th>announce_date</th>\n",
       "      <th>Notified date</th>\n",
       "      <th>sex</th>\n",
       "      <th>age</th>\n",
       "      <th>Unit</th>\n",
       "      <th>nationality</th>\n",
       "      <th>province_of_isolation</th>\n",
       "      <th>risk</th>\n",
       "      <th>province_of_onset</th>\n",
       "      <th>district_of_onset</th>\n",
       "    </tr>\n",
       "  </thead>\n",
       "  <tbody>\n",
       "    <tr>\n",
       "      <th>0</th>\n",
       "      <td>3905873</td>\n",
       "      <td>12/4/2022</td>\n",
       "      <td>11/4/2022</td>\n",
       "      <td>หญิง</td>\n",
       "      <td>54.0</td>\n",
       "      <td>ปี</td>\n",
       "      <td>Thailand</td>\n",
       "      <td>เชียงใหม่</td>\n",
       "      <td>อยู่ระหว่างการสอบสวน</td>\n",
       "      <td>เชียงใหม่</td>\n",
       "      <td>จอมทอง</td>\n",
       "    </tr>\n",
       "    <tr>\n",
       "      <th>1</th>\n",
       "      <td>3905874</td>\n",
       "      <td>12/4/2022</td>\n",
       "      <td>11/4/2022</td>\n",
       "      <td>หญิง</td>\n",
       "      <td>36.0</td>\n",
       "      <td>ปี</td>\n",
       "      <td>Thailand</td>\n",
       "      <td>เชียงใหม่</td>\n",
       "      <td>อยู่ระหว่างการสอบสวน</td>\n",
       "      <td>เชียงใหม่</td>\n",
       "      <td>เมืองเชียงใหม่</td>\n",
       "    </tr>\n",
       "    <tr>\n",
       "      <th>2</th>\n",
       "      <td>3905875</td>\n",
       "      <td>12/4/2022</td>\n",
       "      <td>11/4/2022</td>\n",
       "      <td>หญิง</td>\n",
       "      <td>31.0</td>\n",
       "      <td>ปี</td>\n",
       "      <td>Thailand</td>\n",
       "      <td>เชียงใหม่</td>\n",
       "      <td>อยู่ระหว่างการสอบสวน</td>\n",
       "      <td>เชียงใหม่</td>\n",
       "      <td>ดอยหล่อ</td>\n",
       "    </tr>\n",
       "    <tr>\n",
       "      <th>3</th>\n",
       "      <td>3905876</td>\n",
       "      <td>12/4/2022</td>\n",
       "      <td>11/4/2022</td>\n",
       "      <td>ชาย</td>\n",
       "      <td>37.0</td>\n",
       "      <td>ปี</td>\n",
       "      <td>Thailand</td>\n",
       "      <td>เชียงใหม่</td>\n",
       "      <td>อยู่ระหว่างการสอบสวน</td>\n",
       "      <td>NaN</td>\n",
       "      <td>ต่างจังหวัด</td>\n",
       "    </tr>\n",
       "    <tr>\n",
       "      <th>4</th>\n",
       "      <td>3905877</td>\n",
       "      <td>12/4/2022</td>\n",
       "      <td>11/4/2022</td>\n",
       "      <td>หญิง</td>\n",
       "      <td>33.0</td>\n",
       "      <td>ปี</td>\n",
       "      <td>Thailand</td>\n",
       "      <td>เชียงใหม่</td>\n",
       "      <td>อยู่ระหว่างการสอบสวน</td>\n",
       "      <td>เชียงใหม่</td>\n",
       "      <td>แม่ริม</td>\n",
       "    </tr>\n",
       "    <tr>\n",
       "      <th>5</th>\n",
       "      <td>3905878</td>\n",
       "      <td>12/4/2022</td>\n",
       "      <td>11/4/2022</td>\n",
       "      <td>หญิง</td>\n",
       "      <td>12.0</td>\n",
       "      <td>ปี</td>\n",
       "      <td>Thailand</td>\n",
       "      <td>เชียงใหม่</td>\n",
       "      <td>อยู่ระหว่างการสอบสวน</td>\n",
       "      <td>เชียงใหม่</td>\n",
       "      <td>แม่แตง</td>\n",
       "    </tr>\n",
       "    <tr>\n",
       "      <th>6</th>\n",
       "      <td>3905879</td>\n",
       "      <td>12/4/2022</td>\n",
       "      <td>11/4/2022</td>\n",
       "      <td>ชาย</td>\n",
       "      <td>32.0</td>\n",
       "      <td>ปี</td>\n",
       "      <td>Thailand</td>\n",
       "      <td>เชียงใหม่</td>\n",
       "      <td>สัมผัสใกล้ชิดกับผู้ป่วยยืนยันรายก่อนหน้านี้</td>\n",
       "      <td>เชียงใหม่</td>\n",
       "      <td>แม่ริม</td>\n",
       "    </tr>\n",
       "    <tr>\n",
       "      <th>7</th>\n",
       "      <td>3905880</td>\n",
       "      <td>12/4/2022</td>\n",
       "      <td>11/4/2022</td>\n",
       "      <td>หญิง</td>\n",
       "      <td>55.0</td>\n",
       "      <td>ปี</td>\n",
       "      <td>Thailand</td>\n",
       "      <td>เชียงใหม่</td>\n",
       "      <td>อยู่ระหว่างการสอบสวน</td>\n",
       "      <td>เชียงใหม่</td>\n",
       "      <td>สารภี</td>\n",
       "    </tr>\n",
       "    <tr>\n",
       "      <th>8</th>\n",
       "      <td>3905881</td>\n",
       "      <td>12/4/2022</td>\n",
       "      <td>11/4/2022</td>\n",
       "      <td>หญิง</td>\n",
       "      <td>45.0</td>\n",
       "      <td>ปี</td>\n",
       "      <td>Thailand</td>\n",
       "      <td>เชียงใหม่</td>\n",
       "      <td>อยู่ระหว่างการสอบสวน</td>\n",
       "      <td>เชียงใหม่</td>\n",
       "      <td>เมืองเชียงใหม่</td>\n",
       "    </tr>\n",
       "  </tbody>\n",
       "</table>\n",
       "</div>"
      ],
      "text/plain": [
       "       No. announce_date Notified date   sex   age Unit nationality  \\\n",
       "0  3905873     12/4/2022     11/4/2022  หญิง  54.0   ปี    Thailand   \n",
       "1  3905874     12/4/2022     11/4/2022  หญิง  36.0   ปี    Thailand   \n",
       "2  3905875     12/4/2022     11/4/2022  หญิง  31.0   ปี    Thailand   \n",
       "3  3905876     12/4/2022     11/4/2022   ชาย  37.0   ปี    Thailand   \n",
       "4  3905877     12/4/2022     11/4/2022  หญิง  33.0   ปี    Thailand   \n",
       "5  3905878     12/4/2022     11/4/2022  หญิง  12.0   ปี    Thailand   \n",
       "6  3905879     12/4/2022     11/4/2022   ชาย  32.0   ปี    Thailand   \n",
       "7  3905880     12/4/2022     11/4/2022  หญิง  55.0   ปี    Thailand   \n",
       "8  3905881     12/4/2022     11/4/2022  หญิง  45.0   ปี    Thailand   \n",
       "\n",
       "  province_of_isolation                                         risk  \\\n",
       "0             เชียงใหม่                         อยู่ระหว่างการสอบสวน   \n",
       "1             เชียงใหม่                         อยู่ระหว่างการสอบสวน   \n",
       "2             เชียงใหม่                         อยู่ระหว่างการสอบสวน   \n",
       "3             เชียงใหม่                         อยู่ระหว่างการสอบสวน   \n",
       "4             เชียงใหม่                         อยู่ระหว่างการสอบสวน   \n",
       "5             เชียงใหม่                         อยู่ระหว่างการสอบสวน   \n",
       "6             เชียงใหม่  สัมผัสใกล้ชิดกับผู้ป่วยยืนยันรายก่อนหน้านี้   \n",
       "7             เชียงใหม่                         อยู่ระหว่างการสอบสวน   \n",
       "8             เชียงใหม่                         อยู่ระหว่างการสอบสวน   \n",
       "\n",
       "  province_of_onset district_of_onset  \n",
       "0         เชียงใหม่            จอมทอง  \n",
       "1         เชียงใหม่    เมืองเชียงใหม่  \n",
       "2         เชียงใหม่           ดอยหล่อ  \n",
       "3               NaN       ต่างจังหวัด  \n",
       "4         เชียงใหม่            แม่ริม  \n",
       "5         เชียงใหม่            แม่แตง  \n",
       "6         เชียงใหม่            แม่ริม  \n",
       "7         เชียงใหม่             สารภี  \n",
       "8         เชียงใหม่    เมืองเชียงใหม่  "
      ]
     },
     "execution_count": 134,
     "metadata": {},
     "output_type": "execute_result"
    }
   ],
   "source": [
    "df.head(9)"
   ]
  },
  {
   "cell_type": "markdown",
   "metadata": {},
   "source": [
    "We should consider dtype in each column of the dataframe as shown in df.info(). In df.info() specify dtype in each column, but they are still not correct. For example 'announce_date' should be datetime, 'age' should be float64 or int64.\n",
    "### dtype in pandas\n",
    "https://pbpython.com/pandas_dtypes.html\n",
    "\n",
    "It is important to make sure we are using the correct data types. \n",
    "We can specify the dtype when we import a csv file."
   ]
  },
  {
   "cell_type": "code",
   "execution_count": 103,
   "metadata": {},
   "outputs": [],
   "source": [
    "# We can specify dtype when importing the csv file.\n",
    "# If you run this cell, it will give an error because there is some data in the 'age' column that can't be converted to float(or int) .\n",
    "# df1 = pd.read_csv(url, dtype = {'No.' : object, 'age' : float})"
   ]
  },
  {
   "cell_type": "markdown",
   "metadata": {},
   "source": [
    "### Explore anomalies in dataframe.\n",
    "We should manage anomalies before we utilize this dataframe.\n",
    "By using df.info, df.head() and df.tail(), we can consider what the dtype in each column should be.\n",
    "No. ==> object, \n",
    "announce_date ==> datetime64, \n",
    "Notified date ==> datetime64, \n",
    "sex ==> category, \n",
    "age ==> float64/int64, \n",
    "Unit ==> category, \n",
    "nationality ==> object, \n",
    "province_of_isolation ==> object, \n",
    "risk ==> object, \n",
    "province_of_onset ==> object, \n",
    "district_of_onset ==> object"
   ]
  },
  {
   "cell_type": "markdown",
   "metadata": {},
   "source": [
    "### Set 'announce_date' and 'Notified date' to datetime64 dtype format."
   ]
  },
  {
   "cell_type": "code",
   "execution_count": 135,
   "metadata": {},
   "outputs": [],
   "source": [
    "df['announce_date'] = pd.to_datetime(df['announce_date'], format = '%d/%m/%Y')\n",
    "df['Notified date'] = pd.to_datetime(df['Notified date'], format = '%d/%m/%Y')"
   ]
  },
  {
   "cell_type": "markdown",
   "metadata": {},
   "source": [
    "### Check dtype with df.info()\n",
    "Let's see dtype in 'announce_date' and 'Notified date'. Now they are in datetime64 format."
   ]
  },
  {
   "cell_type": "code",
   "execution_count": 136,
   "metadata": {},
   "outputs": [
    {
     "name": "stdout",
     "output_type": "stream",
     "text": [
      "<class 'pandas.core.frame.DataFrame'>\n",
      "RangeIndex: 356612 entries, 0 to 356611\n",
      "Data columns (total 11 columns):\n",
      " #   Column                 Non-Null Count   Dtype         \n",
      "---  ------                 --------------   -----         \n",
      " 0   No.                    356612 non-null  int64         \n",
      " 1   announce_date          356612 non-null  datetime64[ns]\n",
      " 2   Notified date          356612 non-null  datetime64[ns]\n",
      " 3   sex                    338957 non-null  object        \n",
      " 4   age                    325395 non-null  object        \n",
      " 5   Unit                   325395 non-null  object        \n",
      " 6   nationality            324566 non-null  object        \n",
      " 7   province_of_isolation  356612 non-null  object        \n",
      " 8   risk                   356612 non-null  object        \n",
      " 9   province_of_onset      321770 non-null  object        \n",
      " 10  district_of_onset      312638 non-null  object        \n",
      "dtypes: datetime64[ns](2), int64(1), object(8)\n",
      "memory usage: 29.9+ MB\n"
     ]
    }
   ],
   "source": [
    "df.info()"
   ]
  },
  {
   "cell_type": "markdown",
   "metadata": {},
   "source": [
    "### Set other columns to the right dtype (except 'age')\n",
    "According to 'df1' from above, that gives an error because some data in the 'age' column can't be converted to float.\n",
    "We will deal with this issue later."
   ]
  },
  {
   "cell_type": "code",
   "execution_count": 137,
   "metadata": {},
   "outputs": [],
   "source": [
    "df = df.astype({'No.' : 'object', 'sex' : 'category', 'Unit' : 'category',\n",
    "                'nationality' : 'object', 'province_of_isolation' : 'object',\n",
    "                'risk' : 'object', 'province_of_onset' : 'object',\n",
    "                'district_of_onset' : 'object','age' : 'float'})"
   ]
  },
  {
   "cell_type": "code",
   "execution_count": 138,
   "metadata": {},
   "outputs": [
    {
     "name": "stdout",
     "output_type": "stream",
     "text": [
      "<class 'pandas.core.frame.DataFrame'>\n",
      "RangeIndex: 356612 entries, 0 to 356611\n",
      "Data columns (total 11 columns):\n",
      " #   Column                 Non-Null Count   Dtype         \n",
      "---  ------                 --------------   -----         \n",
      " 0   No.                    356612 non-null  object        \n",
      " 1   announce_date          356612 non-null  datetime64[ns]\n",
      " 2   Notified date          356612 non-null  datetime64[ns]\n",
      " 3   sex                    338957 non-null  category      \n",
      " 4   age                    325395 non-null  float64       \n",
      " 5   Unit                   325395 non-null  category      \n",
      " 6   nationality            324566 non-null  object        \n",
      " 7   province_of_isolation  356612 non-null  object        \n",
      " 8   risk                   356612 non-null  object        \n",
      " 9   province_of_onset      321770 non-null  object        \n",
      " 10  district_of_onset      312638 non-null  object        \n",
      "dtypes: category(2), datetime64[ns](2), float64(1), object(6)\n",
      "memory usage: 25.2+ MB\n"
     ]
    }
   ],
   "source": [
    "df.info()"
   ]
  },
  {
   "cell_type": "markdown",
   "metadata": {},
   "source": [
    "### dropna()\n",
    "There are many reasons why there are more missing values in the dataset, but we don't know why.\n",
    "The solution to getting data in missing values is to contact the dataset provider.\n",
    "We can't wait to communicate with them, so we will drop all rows that have missing values."
   ]
  },
  {
   "cell_type": "code",
   "execution_count": 139,
   "metadata": {},
   "outputs": [],
   "source": [
    "# create new dataframe by using old name 'df'\n",
    "df = df.dropna()"
   ]
  },
  {
   "cell_type": "code",
   "execution_count": 140,
   "metadata": {},
   "outputs": [
    {
     "name": "stdout",
     "output_type": "stream",
     "text": [
      "<class 'pandas.core.frame.DataFrame'>\n",
      "Int64Index: 262536 entries, 0 to 356593\n",
      "Data columns (total 11 columns):\n",
      " #   Column                 Non-Null Count   Dtype         \n",
      "---  ------                 --------------   -----         \n",
      " 0   No.                    262536 non-null  object        \n",
      " 1   announce_date          262536 non-null  datetime64[ns]\n",
      " 2   Notified date          262536 non-null  datetime64[ns]\n",
      " 3   sex                    262536 non-null  category      \n",
      " 4   age                    262536 non-null  float64       \n",
      " 5   Unit                   262536 non-null  category      \n",
      " 6   nationality            262536 non-null  object        \n",
      " 7   province_of_isolation  262536 non-null  object        \n",
      " 8   risk                   262536 non-null  object        \n",
      " 9   province_of_onset      262536 non-null  object        \n",
      " 10  district_of_onset      262536 non-null  object        \n",
      "dtypes: category(2), datetime64[ns](2), float64(1), object(6)\n",
      "memory usage: 20.5+ MB\n"
     ]
    }
   ],
   "source": [
    "df.info()"
   ]
  },
  {
   "cell_type": "markdown",
   "metadata": {},
   "source": [
    "As we can see, the number of rows decreases because we drop the rows that include missing values."
   ]
  },
  {
   "cell_type": "markdown",
   "metadata": {},
   "source": [
    "### Group data\n",
    "df.groupby('sex').mean()\n",
    "We can summarize the average age by a separate group by sex. This code does not give an error but it is wrong because it calculates the number in the 'age' column without considering the 'Unit' column."
   ]
  },
  {
   "cell_type": "code",
   "execution_count": 27,
   "metadata": {},
   "outputs": [
    {
     "data": {
      "text/html": [
       "<div>\n",
       "<style scoped>\n",
       "    .dataframe tbody tr th:only-of-type {\n",
       "        vertical-align: middle;\n",
       "    }\n",
       "\n",
       "    .dataframe tbody tr th {\n",
       "        vertical-align: top;\n",
       "    }\n",
       "\n",
       "    .dataframe thead th {\n",
       "        text-align: right;\n",
       "    }\n",
       "</style>\n",
       "<table border=\"1\" class=\"dataframe\">\n",
       "  <thead>\n",
       "    <tr style=\"text-align: right;\">\n",
       "      <th></th>\n",
       "      <th>age</th>\n",
       "    </tr>\n",
       "    <tr>\n",
       "      <th>sex</th>\n",
       "      <th></th>\n",
       "    </tr>\n",
       "  </thead>\n",
       "  <tbody>\n",
       "    <tr>\n",
       "      <th>ชาย</th>\n",
       "      <td>39.300523</td>\n",
       "    </tr>\n",
       "    <tr>\n",
       "      <th>หญิง</th>\n",
       "      <td>41.905628</td>\n",
       "    </tr>\n",
       "  </tbody>\n",
       "</table>\n",
       "</div>"
      ],
      "text/plain": [
       "            age\n",
       "sex            \n",
       "ชาย   39.300523\n",
       "หญิง  41.905628"
      ]
     },
     "execution_count": 27,
     "metadata": {},
     "output_type": "execute_result"
    }
   ],
   "source": [
    "df.groupby('sex').mean()"
   ]
  },
  {
   "cell_type": "markdown",
   "metadata": {},
   "source": [
    "The correct way to calculate it is to calculate the number in the same unit.\n",
    "df[df['Unit'] == 'ปี'].groupby('sex').meant()"
   ]
  },
  {
   "cell_type": "code",
   "execution_count": 145,
   "metadata": {},
   "outputs": [
    {
     "data": {
      "text/html": [
       "<div>\n",
       "<style scoped>\n",
       "    .dataframe tbody tr th:only-of-type {\n",
       "        vertical-align: middle;\n",
       "    }\n",
       "\n",
       "    .dataframe tbody tr th {\n",
       "        vertical-align: top;\n",
       "    }\n",
       "\n",
       "    .dataframe thead th {\n",
       "        text-align: right;\n",
       "    }\n",
       "</style>\n",
       "<table border=\"1\" class=\"dataframe\">\n",
       "  <thead>\n",
       "    <tr style=\"text-align: right;\">\n",
       "      <th></th>\n",
       "      <th>age</th>\n",
       "    </tr>\n",
       "    <tr>\n",
       "      <th>sex</th>\n",
       "      <th></th>\n",
       "    </tr>\n",
       "  </thead>\n",
       "  <tbody>\n",
       "    <tr>\n",
       "      <th>ชาย</th>\n",
       "      <td>39.826927</td>\n",
       "    </tr>\n",
       "    <tr>\n",
       "      <th>หญิง</th>\n",
       "      <td>42.063497</td>\n",
       "    </tr>\n",
       "  </tbody>\n",
       "</table>\n",
       "</div>"
      ],
      "text/plain": [
       "            age\n",
       "sex            \n",
       "ชาย   39.826927\n",
       "หญิง  42.063497"
      ]
     },
     "execution_count": 145,
     "metadata": {},
     "output_type": "execute_result"
    }
   ],
   "source": [
    "df[df['Unit'] == 'ปี'].groupby('sex').mean()"
   ]
  },
  {
   "cell_type": "code",
   "execution_count": null,
   "metadata": {},
   "outputs": [],
   "source": []
  }
 ],
 "metadata": {
  "kernelspec": {
   "display_name": "Python 3.10.5 64-bit (windows store)",
   "language": "python",
   "name": "python3"
  },
  "language_info": {
   "codemirror_mode": {
    "name": "ipython",
    "version": 3
   },
   "file_extension": ".py",
   "mimetype": "text/x-python",
   "name": "python",
   "nbconvert_exporter": "python",
   "pygments_lexer": "ipython3",
   "version": "3.10.5"
  },
  "orig_nbformat": 4,
  "vscode": {
   "interpreter": {
    "hash": "6b9f615904c059b822b241490f03cdb5b4d86bf859d3cf0992a9b331d47da6d4"
   }
  }
 },
 "nbformat": 4,
 "nbformat_minor": 2
}
